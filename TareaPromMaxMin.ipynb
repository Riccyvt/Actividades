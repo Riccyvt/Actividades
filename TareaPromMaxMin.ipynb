{
  "nbformat": 4,
  "nbformat_minor": 0,
  "metadata": {
    "colab": {
      "provenance": [],
      "authorship_tag": "ABX9TyP/aFx5DSw6D5pavWk+1kcG",
      "include_colab_link": true
    },
    "kernelspec": {
      "name": "python3",
      "display_name": "Python 3"
    },
    "language_info": {
      "name": "python"
    }
  },
  "cells": [
    {
      "cell_type": "markdown",
      "metadata": {
        "id": "view-in-github",
        "colab_type": "text"
      },
      "source": [
        "<a href=\"https://colab.research.google.com/github/Riccyvt/Actividades/blob/main/TareaPromMaxMin.ipynb\" target=\"_parent\"><img src=\"https://colab.research.google.com/assets/colab-badge.svg\" alt=\"Open In Colab\"/></a>"
      ]
    },
    {
      "cell_type": "code",
      "execution_count": null,
      "metadata": {
        "id": "utR9EhON2ARg"
      },
      "outputs": [],
      "source": [
        "#En este ejercicio vamos a calcular promedio, mayor y menor de una serie de numeros\n",
        "\n",
        "# Recibe una cantidad de números a evaluar y los guarda en la variable 'cantidad'\n",
        "cantidad = input(\"Ingrese la cantidad de números a evaluar: \")\n",
        "cantidad = int(cantidad)\n",
        "\n",
        "# Inicializa la variable 'suma' en cero\n",
        "suma = 0\n",
        "\n",
        "# Se recibe cada número y se guarda en la variable 'numero'\n",
        "for x in range(cantidad):\n",
        "    numero = input(\"Número \" + str(x + 1) + \" a evaluar: \")\n",
        "    numero = int(numero)\n",
        "    num0 = numero\n",
        "    num1 = numero\n",
        "    num2 = numero\n",
        "\n",
        "    # Para que el primer valor ingresado sea el mayor o el menor\n",
        "    if x == 0:\n",
        "        mayor = num1\n",
        "        menor = num2\n",
        "\n",
        "    # Suma para calcular el promedio\n",
        "    suma = suma + num0\n",
        "\n",
        "    # Calcula el número mayor\n",
        "    if num1 > mayor:\n",
        "        mayor = num1\n",
        "\n",
        "    # Calcula el número menor\n",
        "    if num2 < menor:\n",
        "        menor = num2\n",
        "\n",
        "# Calcula el promedio\n",
        "prom = suma / cantidad\n",
        "\n",
        "# Imprime resultados\n",
        "print(\"El promedio es: \", prom)\n",
        "print(\"Número mayor: \", mayor)\n",
        "print(\"Número menor: \", menor)\n"
      ]
    }
  ]
}