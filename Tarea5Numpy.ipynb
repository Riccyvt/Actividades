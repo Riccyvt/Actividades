{
  "nbformat": 4,
  "nbformat_minor": 0,
  "metadata": {
    "colab": {
      "provenance": [],
      "authorship_tag": "ABX9TyP65yauSXGw8hxLo4C3Llxh",
      "include_colab_link": true
    },
    "kernelspec": {
      "name": "python3",
      "display_name": "Python 3"
    },
    "language_info": {
      "name": "python"
    }
  },
  "cells": [
    {
      "cell_type": "markdown",
      "metadata": {
        "id": "view-in-github",
        "colab_type": "text"
      },
      "source": [
        "<a href=\"https://colab.research.google.com/github/Riccyvt/Actividades/blob/main/Tarea5Numpy.ipynb\" target=\"_parent\"><img src=\"https://colab.research.google.com/assets/colab-badge.svg\" alt=\"Open In Colab\"/></a>"
      ]
    },
    {
      "cell_type": "code",
      "execution_count": 4,
      "metadata": {
        "id": "Rh-2r0ouw752"
      },
      "outputs": [],
      "source": [
        "#En este programa vamos a analizar datos de arreglos con la libreria Numpy\n",
        "import numpy as np\n",
        "import csv"
      ]
    },
    {
      "cell_type": "code",
      "source": [
        "#cambiar el tipo de dato de las columnas\n",
        "tiposDato=[('col0','S1'), ('col1','S10'),('col2','<f8')]"
      ],
      "metadata": {
        "id": "t2dNEN8N294W"
      },
      "execution_count": 2,
      "outputs": []
    },
    {
      "cell_type": "code",
      "source": [
        "# a) Cargar datos de archivo csv\n",
        "datos = np.loadtxt('datos_olas.csv', dtype=tiposDato, delimiter = ',', skiprows = 1, usecols=[0,1,2])\n",
        "#print(datos)"
      ],
      "metadata": {
        "id": "aIcm0t0Mx7U9"
      },
      "execution_count": 9,
      "outputs": []
    },
    {
      "cell_type": "code",
      "source": [
        "#verificar información de archivo\n",
        "print(datos.shape)\n",
        "print(datos.dtype)\n",
        "print(datos[0])\n",
        "xrange=len(datos)\n",
        "print(xrange)"
      ],
      "metadata": {
        "id": "4l15lwssS7YW",
        "colab": {
          "base_uri": "https://localhost:8080/"
        },
        "outputId": "1a26cbe0-1583-4ffa-dc6d-e81599c35ab1"
      },
      "execution_count": 10,
      "outputs": [
        {
          "output_type": "stream",
          "name": "stdout",
          "text": [
            "(100,)\n",
            "[('col0', 'S1'), ('col1', 'S10'), ('col2', '<f8')]\n",
            "(b'A', b'2022-11-25', 4.87846407)\n",
            "100\n"
          ]
        }
      ]
    },
    {
      "cell_type": "code",
      "source": [
        "#declarar variables globales\n",
        "puntos=[]\n",
        "dia=[]\n",
        "altura=[]\n",
        "\n",
        "#inicializar variables con tipo de dato\n",
        "puntos=datos['col0']\n",
        "dia=datos['col1']\n",
        "altura=datos['col2']\n",
        "\n",
        "xrange = len(datos)\n",
        "print (xrange)\n",
        "\n",
        "print (type(column1))\n"
      ],
      "metadata": {
        "id": "q3gyXpvk83Nq",
        "colab": {
          "base_uri": "https://localhost:8080/"
        },
        "outputId": "c4c15d73-08b0-4f67-9f90-846c77aab98d"
      },
      "execution_count": 33,
      "outputs": [
        {
          "output_type": "stream",
          "name": "stdout",
          "text": [
            "100\n",
            "<class 'numpy.ndarray'>\n"
          ]
        }
      ]
    },
    {
      "cell_type": "code",
      "source": [
        "# Declaracion de listas vacias para almacenar datos\n",
        "point = []  # Lista para almacenar los puntos\n",
        "\n",
        "# Lista para almacenar alturas correspondientes 'A','B','C','D','E'\n",
        "hwavepA = []\n",
        "hwavepB = []\n",
        "hwavepC = []\n",
        "hwavepD = []\n",
        "hwavepE = []\n",
        "\n",
        "# Listas para almacenar promedios de altura máxima por punto\n",
        "maxhpromwave = []\n",
        "maxhwav = []\n",
        "\n",
        "# Variables para calcular sumas, conteos y promedios por punto\n",
        "sumhpA = 0\n",
        "countpA = 0\n",
        "promhpA = 0\n",
        "\n",
        "sumhpB = 0\n",
        "countpB = 0\n",
        "promhpB = 0\n",
        "\n",
        "sumhpC = 0\n",
        "countpC = 0\n",
        "promhpC = 0\n",
        "\n",
        "sumhpD = 0\n",
        "countpD = 0\n",
        "promhpD = 0\n",
        "\n",
        "sumhpE = 0\n",
        "countpE = 0\n",
        "promhpE = 0\n",
        "\n",
        "# Iterar para recorrer los datos en puntos y altura\n",
        "for i2 in range(xrange):\n",
        "  #Etiquetas de puntos\n",
        "  pA = 'A'\n",
        "  pB = 'B'\n",
        "  pC = 'C'\n",
        "  pD = 'D'\n",
        "  pE = 'E'\n",
        "#obtiene el punto actual como una cadena\n",
        "  point = str(puntos[i2]) #Aqui se le quita el ndarray y se hace str\n",
        "\n",
        "#Verifica si el punto actual es 'A' y realiza los calculos correspondientes\n",
        "#Repite el proceso para los puntos 'B','C','D','E'\n",
        "  if pA in point:\n",
        "    countpA += 1\n",
        "    sumhpA=sumhpA+altura[i2]\n",
        "    if countpA == 1:\n",
        "      maxhpA = altura[i2]\n",
        "      indexhpA = i2\n",
        "    if (altura[i2] > maxhpA):\n",
        "      maxhpA = altura[i2]\n",
        "      indexhpA = i2\n",
        "    hwavepA.append(altura[i2])\n",
        "\n",
        "  if pB in point:\n",
        "    countpB += 1\n",
        "    sumhpB=sumhpB+altura[i2]\n",
        "    if countpB == 1:\n",
        "      maxhpB = altura[i2]\n",
        "      indexhpB = i2\n",
        "    if (altura[i2] > maxhpB):\n",
        "      maxhpB = altura[i2]\n",
        "      indexhpB = i2\n",
        "    hwavepB.append(altura[i2])\n",
        "\n",
        "  if pC in point:\n",
        "    countpC += 1\n",
        "    sumhpC=sumhpC+altura[i2]\n",
        "    if countpC == 1:\n",
        "      maxhpC = altura[i2]\n",
        "      indexhpC = i2\n",
        "    if (altura[i2] > maxhpC):\n",
        "      maxhpC = altura[i2]\n",
        "      indexhpC = i2\n",
        "    hwavepC.append(altura[i2])\n",
        "\n",
        "  if pD in point:\n",
        "    countpD += 1\n",
        "    sumhpD=sumhpD+altura[i2]\n",
        "    if countpD == 1:\n",
        "      maxhpD = altura[i2]\n",
        "      indexhpD = i2\n",
        "    if (altura[i2] > maxhpD):\n",
        "      maxhpD = altura[i2]\n",
        "      indexhpD = i2\n",
        "    hwavepD.append(altura[i2])\n",
        "\n",
        "  if pE in point:\n",
        "    countpE += 1\n",
        "    sumhpE=sumhpE+altura[i2]\n",
        "    if countpE == 1:\n",
        "      maxhpE = altura[i2]\n",
        "      indexhpE = i2\n",
        "    if (altura[i2] > maxhpE):\n",
        "      maxhpE = altura[i2]\n",
        "      indexhpE = i2\n",
        "    hwavepE.append(altura[i2])\n",
        "\n",
        "#Calcula la desviación estandar para las alturas de cada punto\n",
        "stdhpA = np.std(hwavepA)\n",
        "stdhpB = np.std(hwavepB)\n",
        "stdhpC = np.std(hwavepC)\n",
        "stdhpD = np.std(hwavepD)\n",
        "stdhpE = np.std(hwavepE)\n",
        "\n",
        "#Calcula el promedio de alturas para cada punto\n",
        "promhpA = sumhpA/countpA\n",
        "promhpB = sumhpB/countpB\n",
        "promhpC = sumhpC/countpC\n",
        "promhpD = sumhpD/countpD\n",
        "promhpE = sumhpE/countpE\n",
        "\n",
        "#Almacena los promedios de alturas en una lista\n",
        "maxhpromwave = [promhpA, promhpB, promhpC, promhpD, promhpE]\n",
        "\n",
        "#Encuentra el maximo de los promedios de alturas y su indice en lista\n",
        "maxhprom = np.max(maxhpromwave)\n",
        "maxhpind = np.argmax(maxhpromwave)\n",
        "\n",
        "#Asigna la etoqueta del punto con el promedio de altura\n",
        "if maxhpind == 0: maxhpoint = 'A'\n",
        "if maxhpind == 1: maxhpoint = 'B'\n",
        "if maxhpind == 2: maxhpoint = 'C'\n",
        "if maxhpind == 3: maxhpoint = 'D'\n",
        "if maxhpind == 4: maxhpoint = 'E'\n",
        "\n",
        "#Almacena las alturas máximas en una lista\n",
        "maxhwav = [maxhpA, maxhpB, maxhpC, maxhpD, maxhpE]\n",
        "maxhindwav =[indexhpA, indexhpB, indexhpC, indexhpD, indexhpE]\n",
        "maxh = np.max(maxhwav)\n",
        "\n",
        "#Encuentra el maximo de las alturas maximas y su indice\n",
        "maxhin = np.argmax(maxhwav)\n",
        "\n",
        "#Asigna el indice de la altura máxima\n",
        "if maxhin == 0: maxind = indexhpA\n",
        "if maxhin == 1: maxind = indexhpB\n",
        "if maxhin == 2: maxind = indexhpC\n",
        "if maxhin == 3: maxind = indexhpD\n",
        "if maxhin == 4: maxind = indexhpE"
      ],
      "metadata": {
        "id": "o9iVcDWldxgC"
      },
      "execution_count": 39,
      "outputs": []
    },
    {
      "cell_type": "code",
      "source": [
        "#Guarda resultados en archivo txt\n",
        "nw_file = open(\"reporte_final_olas.txt\", \"w\")\n",
        "\n",
        "#Imprime resultados\n",
        "nw_file.write(str(\"El promedio del punto A es: \")+ str(promhpA) + \"\\n\")\n",
        "nw_file.write(str(\"La altura maxima del punto A es: \")+ str(maxhpA) + \"\\n\")\n",
        "nw_file.write(str('El indice de la altura maxima en el punto A es: ')+ str(indexhpA) + \"\\n\")\n",
        "nw_file.write(str('El dia de que tomo esa altura en el punto A es: ')+ str(dia[indexhpA]) + \"\\n\")\n",
        "nw_file.write(str('La desv. estandar de la altura de las olas en el punto A es:')+ str(stdhpA) + \"\\n\")\n",
        "nw_file.write(\"\\n\")\n",
        "nw_file.write(str('El promedio del punto B es: ')+ str(promhpB) + \"\\n\")\n",
        "nw_file.write(str('La altura maxima del punto B es: ')+ str(maxhpB) + \"\\n\")\n",
        "nw_file.write(str('El indice de la altura maxima en el punto B es: ')+ str(indexhpB) + \"\\n\")\n",
        "nw_file.write(str('El dia de que tomo esa altura en el punto B es: ')+ str(dia[indexhpB]) + \"\\n\")\n",
        "nw_file.write(str('La desv. estandar de la altura de las olas en el punto B es:')+ str(stdhpB) + \"\\n\")\n",
        "nw_file.write(\"\\n\")\n",
        "nw_file.write(str('El promedio del punto C es: ')+ str(promhpC) + \"\\n\")\n",
        "nw_file.write(str('La altura maxima del punto C es: ')+ str(maxhpC) + \"\\n\")\n",
        "nw_file.write(str('El indice de la altura maxima en el punto C es: ')+ str(indexhpC) + \"\\n\")\n",
        "nw_file.write(str('El dia de que tomo esa altura en el punto C es: ')+ str(dia[indexhpC]) + \"\\n\")\n",
        "nw_file.write(str('La desv. estandar de la altura de las olas en el punto C es:')+ str(stdhpC) + \"\\n\")\n",
        "nw_file.write(\"\\n\")\n",
        "nw_file.write(str('El promedio del punto D es: ')+ str(promhpD) + \"\\n\")\n",
        "nw_file.write(str('La altura maxima del punto D es: ')+ str(maxhpD) + \"\\n\")\n",
        "nw_file.write(str('El indice de la altura maxima en el punto D es: ')+ str(indexhpD) + \"\\n\")\n",
        "nw_file.write(str('El dia de que tomo esa altura en el punto D es: ')+ str(dia[indexhpD]) + \"\\n\")\n",
        "nw_file.write(str('La desv. estandar de la altura de las olas en el punto D es:')+ str(stdhpD) + \"\\n\")\n",
        "nw_file.write(\"\\n\")\n",
        "nw_file.write(str('El promedio del punto E es: ')+ str(promhpE) + \"\\n\")\n",
        "nw_file.write(str('La altura maxima del punto E es: ')+ str(maxhpE) + \"\\n\")\n",
        "nw_file.write(str('El indice de la altura maxima en el punto E es: ')+ str(indexhpE) + \"\\n\")\n",
        "nw_file.write(str('El dia de que tomo esa altura en el punto E es: ')+ str(dia[indexhpE]) + \"\\n\")\n",
        "nw_file.write(str('La desv. estandar de la altura de las olas en el punto E es:')+ str(stdhpE) + \"\\n\")\n",
        "nw_file.write(\"\\n\")\n",
        "nw_file.write(str('La altura maxima promedio de todos los puntos es: ')+ str(maxhprom) + \"\\n\")\n",
        "nw_file.write(str('El punto de la altura maxima corresponde al punto: ')+ str(maxhpoint) + \"\\n\")\n",
        "nw_file.write(\"\\n\")\n",
        "nw_file.write(str('El dia de la maxima altura en todo el parque fue: ')+ str(dia[maxind]) + \"\\n\")\n",
        "nw_file.write(str('La altura maxima altura fue: ')+ str(maxh) + \"\\n\")\n",
        "\n"
      ],
      "metadata": {
        "colab": {
          "base_uri": "https://localhost:8080/"
        },
        "id": "qjDzhhe2zhbL",
        "outputId": "fb64804d-2584-4d84-e7f3-ec29f353ba57"
      },
      "execution_count": 38,
      "outputs": [
        {
          "output_type": "execute_result",
          "data": {
            "text/plain": [
              "47"
            ]
          },
          "metadata": {},
          "execution_count": 38
        }
      ]
    }
  ]
}