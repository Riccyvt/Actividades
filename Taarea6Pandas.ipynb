{
  "nbformat": 4,
  "nbformat_minor": 0,
  "metadata": {
    "colab": {
      "provenance": [],
      "authorship_tag": "ABX9TyMrtFVs8KC+1Ne1yC2Fubzx",
      "include_colab_link": true
    },
    "kernelspec": {
      "name": "python3",
      "display_name": "Python 3"
    },
    "language_info": {
      "name": "python"
    }
  },
  "cells": [
    {
      "cell_type": "markdown",
      "metadata": {
        "id": "view-in-github",
        "colab_type": "text"
      },
      "source": [
        "<a href=\"https://colab.research.google.com/github/Riccyvt/Actividades/blob/main/Taarea6Pandas.ipynb\" target=\"_parent\"><img src=\"https://colab.research.google.com/assets/colab-badge.svg\" alt=\"Open In Colab\"/></a>"
      ]
    },
    {
      "cell_type": "code",
      "execution_count": 30,
      "metadata": {
        "id": "d0g7cPKf3lC5"
      },
      "outputs": [],
      "source": [
        "#importar libreria pandas\n",
        "import pandas as pd\n",
        "import csv"
      ]
    },
    {
      "cell_type": "code",
      "source": [
        "#cargar datos de archivo\n",
        "df=pd.read_csv('datos_ventas.csv')\n"
      ],
      "metadata": {
        "id": "WESHh_Mq36Sc"
      },
      "execution_count": 15,
      "outputs": []
    },
    {
      "cell_type": "code",
      "source": [
        "#Mostrar primeras 5 filas del archivo\n",
        "print(df.head(6))"
      ],
      "metadata": {
        "colab": {
          "base_uri": "https://localhost:8080/"
        },
        "id": "Rz-jTb_z6TDf",
        "outputId": "d6e44a9a-9e7b-499b-9d3b-5833ccb62d91"
      },
      "execution_count": 29,
      "outputs": [
        {
          "output_type": "stream",
          "name": "stdout",
          "text": [
            "     Producto    Categoria       Fecha  Cantidad  Precio\n",
            "0  Producto B  Categoria 1  2023-02-05        16   37.00\n",
            "1  Producto A  Categoria 2  2022-08-24         5   30.24\n",
            "2  Producto A  Categoria 2  2023-05-07         3   23.29\n",
            "3  Producto C  Categoria 1  2023-01-07        13   28.30\n",
            "4  Producto A  Categoria 1  2023-05-31        10   34.89\n",
            "5  Producto B  Categoria 2  2023-07-06        13   29.58\n"
          ]
        }
      ]
    },
    {
      "cell_type": "code",
      "source": [
        "#Calcular el total de ventas realizadas en cada categoria de productos\n",
        "print(df.groupby('Categoria')[['Precio']].sum(numeric_only=True))"
      ],
      "metadata": {
        "colab": {
          "base_uri": "https://localhost:8080/"
        },
        "id": "dtO6lkgiCnKx",
        "outputId": "0c38840c-e262-4e9b-efbc-add5140b156b"
      },
      "execution_count": 57,
      "outputs": [
        {
          "output_type": "stream",
          "name": "stdout",
          "text": [
            "              Precio\n",
            "Categoria           \n",
            "Categoria 1  1312.14\n",
            "Categoria 2  1576.67\n"
          ]
        }
      ]
    },
    {
      "cell_type": "code",
      "source": [
        "#Calcular la cantidad promedio de productos vendidos por transaccion\n",
        "print(df.groupby('Producto')[['Cantidad']].mean(numeric_only=True))"
      ],
      "metadata": {
        "colab": {
          "base_uri": "https://localhost:8080/"
        },
        "id": "g10ao-7eRmfh",
        "outputId": "02af6e40-1f07-4054-a382-0a45624b037e"
      },
      "execution_count": 56,
      "outputs": [
        {
          "output_type": "stream",
          "name": "stdout",
          "text": [
            "             Cantidad\n",
            "Producto             \n",
            "Producto A   9.684211\n",
            "Producto B  10.600000\n",
            "Producto C   8.074074\n"
          ]
        }
      ]
    },
    {
      "cell_type": "code",
      "source": [
        "#Encontrar el producto mas vendido y mostrar su nombre y cantidad vendida\n",
        "print(df.groupby('Producto')[['Cantidad']].max(numeric_only=True))"
      ],
      "metadata": {
        "colab": {
          "base_uri": "https://localhost:8080/"
        },
        "id": "KjbR-bxFSvsn",
        "outputId": "4dd5988e-fd8e-4a5d-a428-5aac95ccde5a"
      },
      "execution_count": 55,
      "outputs": [
        {
          "output_type": "stream",
          "name": "stdout",
          "text": [
            "            Cantidad\n",
            "Producto            \n",
            "Producto A        20\n",
            "Producto B        20\n",
            "Producto C        16\n"
          ]
        }
      ]
    },
    {
      "cell_type": "code",
      "source": [
        "#Calcular el promedio de precios venta para cada producto\n",
        "print(df.groupby('Producto')[['Precio']].mean(numeric_only=True))"
      ],
      "metadata": {
        "colab": {
          "base_uri": "https://localhost:8080/"
        },
        "id": "4JNRCG0pX_Vm",
        "outputId": "9a979a2b-ded9-41f7-f5f7-6d664bd87cb5"
      },
      "execution_count": 59,
      "outputs": [
        {
          "output_type": "stream",
          "name": "stdout",
          "text": [
            "               Precio\n",
            "Producto             \n",
            "Producto A  27.840000\n",
            "Producto B  29.250857\n",
            "Producto C  29.892963\n"
          ]
        }
      ]
    }
  ]
}