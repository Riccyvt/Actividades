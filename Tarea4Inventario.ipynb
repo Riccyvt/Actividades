{
  "nbformat": 4,
  "nbformat_minor": 0,
  "metadata": {
    "colab": {
      "provenance": [],
      "authorship_tag": "ABX9TyOOBhohR9zX8lIOfh475J+L",
      "include_colab_link": true
    },
    "kernelspec": {
      "name": "python3",
      "display_name": "Python 3"
    },
    "language_info": {
      "name": "python"
    }
  },
  "cells": [
    {
      "cell_type": "markdown",
      "metadata": {
        "id": "view-in-github",
        "colab_type": "text"
      },
      "source": [
        "<a href=\"https://colab.research.google.com/github/Riccyvt/Actividades/blob/main/Tarea4Inventario.ipynb\" target=\"_parent\"><img src=\"https://colab.research.google.com/assets/colab-badge.svg\" alt=\"Open In Colab\"/></a>"
      ]
    },
    {
      "cell_type": "code",
      "execution_count": null,
      "metadata": {
        "id": "W9-127aNxxTF"
      },
      "outputs": [],
      "source": [
        "#En este programa vamos a usar arreglos con directorios"
      ]
    },
    {
      "cell_type": "code",
      "source": [
        "#Menu\n",
        "producto = {\n",
        "    'nombre': '',\n",
        "    'cantidad': 0\n",
        " }\n",
        "\n",
        "inventario=[]\n",
        "inventario.append( {'nombre': nombre,'cantidad': cantidad})\n",
        "print(inventario)\n",
        "\n",
        "while True:\n",
        "  print('Menú para gestionar inventario: ')\n",
        "  print('1 - Agregar producto')\n",
        "  print('2 - Buscar producto')\n",
        "  print('3 - Actualizar cantidad')\n",
        "  print('4 - Eliminar producto')\n",
        "  print('5 - Salir')\n",
        "\n",
        "  opcion=int(input('Elige la opcion a realizar para el inventario: '))\n",
        "  if opcion==1:\n",
        "      nombre= input('Introduce el nombre del producto: ')\n",
        "      cantidad= int(input('Indica la cantidad de producto: '))\n",
        "      print(add_prodNvo(nombre,cantidad))\n",
        "  elif opcion==2:\n",
        "      print(busq_prodNvo(nombre,cantidad))\n",
        "  elif opcion==3:\n",
        "      print(act_prodNvo(cantidad))\n",
        "  elif opcion==4:\n",
        "      print(remove_prodNvo(nombre))\n",
        "  elif opcion==5:\n",
        "      print('Saliendo del programa.')\n",
        "  else:\n",
        "    break3\n",
        "    4\n"
      ],
      "metadata": {
        "colab": {
          "base_uri": "https://localhost:8080/",
          "height": 711
        },
        "id": "lcoJwzEyK3U6",
        "outputId": "e76bf766-338e-4093-e653-8cc385f24afa"
      },
      "execution_count": 131,
      "outputs": [
        {
          "name": "stdout",
          "output_type": "stream",
          "text": [
            "[{'nombre': 'miel', 'cantidad': 34}]\n",
            "Menú para gestionar inventario: \n",
            "1 - Agregar producto\n",
            "2 - Buscar producto\n",
            "3 - Actualizar cantidad\n",
            "4 - Eliminar producto\n",
            "5 - Salir\n",
            "Elige la opcion a realizar para el inventario: 1\n",
            "Introduce el nombre del producto: almendra\n",
            "Indica la cantidad de producto: 23\n",
            "None\n",
            "Menú para gestionar inventario: \n",
            "1 - Agregar producto\n",
            "2 - Buscar producto\n",
            "3 - Actualizar cantidad\n",
            "4 - Eliminar producto\n",
            "5 - Salir\n",
            "Elige la opcion a realizar para el inventario: 2\n",
            "None\n",
            "Menú para gestionar inventario: \n",
            "1 - Agregar producto\n",
            "2 - Buscar producto\n",
            "3 - Actualizar cantidad\n",
            "4 - Eliminar producto\n",
            "5 - Salir\n",
            "Elige la opcion a realizar para el inventario: 3\n"
          ]
        },
        {
          "output_type": "error",
          "ename": "TypeError",
          "evalue": "ignored",
          "traceback": [
            "\u001b[0;31m---------------------------------------------------------------------------\u001b[0m",
            "\u001b[0;31mTypeError\u001b[0m                                 Traceback (most recent call last)",
            "\u001b[0;32m<ipython-input-131-b23e62cff1b8>\u001b[0m in \u001b[0;36m<cell line: 11>\u001b[0;34m()\u001b[0m\n\u001b[1;32m     25\u001b[0m       \u001b[0mprint\u001b[0m\u001b[0;34m(\u001b[0m\u001b[0mbusq_prodNvo\u001b[0m\u001b[0;34m(\u001b[0m\u001b[0mnombre\u001b[0m\u001b[0;34m,\u001b[0m\u001b[0mcantidad\u001b[0m\u001b[0;34m)\u001b[0m\u001b[0;34m)\u001b[0m\u001b[0;34m\u001b[0m\u001b[0;34m\u001b[0m\u001b[0m\n\u001b[1;32m     26\u001b[0m   \u001b[0;32melif\u001b[0m \u001b[0mopcion\u001b[0m\u001b[0;34m==\u001b[0m\u001b[0;36m3\u001b[0m\u001b[0;34m:\u001b[0m\u001b[0;34m\u001b[0m\u001b[0;34m\u001b[0m\u001b[0m\n\u001b[0;32m---> 27\u001b[0;31m       \u001b[0mprint\u001b[0m\u001b[0;34m(\u001b[0m\u001b[0mact_prodNvo\u001b[0m\u001b[0;34m(\u001b[0m\u001b[0mcantidad\u001b[0m\u001b[0;34m)\u001b[0m\u001b[0;34m)\u001b[0m\u001b[0;34m\u001b[0m\u001b[0;34m\u001b[0m\u001b[0m\n\u001b[0m\u001b[1;32m     28\u001b[0m   \u001b[0;32melif\u001b[0m \u001b[0mopcion\u001b[0m\u001b[0;34m==\u001b[0m\u001b[0;36m4\u001b[0m\u001b[0;34m:\u001b[0m\u001b[0;34m\u001b[0m\u001b[0;34m\u001b[0m\u001b[0m\n\u001b[1;32m     29\u001b[0m       \u001b[0mprint\u001b[0m\u001b[0;34m(\u001b[0m\u001b[0mremove_prodNvo\u001b[0m\u001b[0;34m(\u001b[0m\u001b[0mnombre\u001b[0m\u001b[0;34m)\u001b[0m\u001b[0;34m)\u001b[0m\u001b[0;34m\u001b[0m\u001b[0;34m\u001b[0m\u001b[0m\n",
            "\u001b[0;31mTypeError\u001b[0m: act_prodNvo() missing 1 required positional argument: 'cantidad'"
          ]
        }
      ]
    },
    {
      "cell_type": "code",
      "source": [
        "#Agregar producto\n",
        "\n",
        "def add_prodNvo(nombre,cantidad):\n",
        "\n",
        " producto = {\n",
        "    'nombre': '',\n",
        "    'cantidad': 0\n",
        " }\n",
        "\n",
        "inventario=[]\n",
        "inventario.append( {'nombre': nombre,'cantidad': cantidad})\n",
        "print(inventario)\n"
      ],
      "metadata": {
        "colab": {
          "base_uri": "https://localhost:8080/"
        },
        "outputId": "8a0585d5-11db-4acd-9d7e-0c2dc6750453",
        "id": "ixXl9zBpSeD6"
      },
      "execution_count": 132,
      "outputs": [
        {
          "output_type": "stream",
          "name": "stdout",
          "text": [
            "[{'nombre': 'almendra', 'cantidad': 23}]\n"
          ]
        }
      ]
    },
    {
      "cell_type": "code",
      "source": [
        "#Buscar producto\n",
        "\n",
        "def busq_prodNvo(nombre,cantidad):\n",
        "\n",
        " producto ={\n",
        "    'nombre': '',\n",
        "    'cantidad': 0\n",
        " }\n",
        "inventario=[]\n",
        "inventario.append( {'nombre': nombre,'cantidad': cantidad})\n",
        "\n",
        "buscar= input('Introduce el producto a buscar: ')\n",
        "for  prodNvo in inventario:\n",
        "    if buscar == prodNvo['nombre']:\n",
        "      print('\\t Nombre: ', prodNvo['nombre'])\n",
        "      print('\\t Cantidad: ', prodNvo['cantidad'])"
      ],
      "metadata": {
        "colab": {
          "base_uri": "https://localhost:8080/"
        },
        "id": "YqA1A1TRZGHi",
        "outputId": "04fa1eda-9090-45f9-cfa8-52ed7abc4000"
      },
      "execution_count": 133,
      "outputs": [
        {
          "output_type": "stream",
          "name": "stdout",
          "text": [
            "Introduce el producto a buscar: almendra\n",
            "\t Nombre:  almendra\n",
            "\t Cantidad:  23\n"
          ]
        }
      ]
    },
    {
      "cell_type": "code",
      "source": [
        "#Actualizar cantidad\n",
        "\n",
        "def act_prodNvo(nombre,cantidad):\n",
        "\n",
        "  producto ={\n",
        "      'nombre':'',\n",
        "      'cantidad':0\n",
        "  }\n",
        "  inventario=[]\n",
        "  inventario.append( {'nombre':nombre,'cantidad':cantidad})\n",
        "  print(inventario)\n",
        "\n",
        "  modif= input('Ingresa el producto a modificar: ')\n",
        "  modifcant= input('Dame la cantidad a modificar: ')\n",
        "  for prodNvo in inventario:\n",
        "    if modif ==prodNvo['nombre']:\n",
        "      print(nombre, cantidad)"
      ],
      "metadata": {
        "id": "bPFq8gcb76S5"
      },
      "execution_count": 126,
      "outputs": []
    },
    {
      "cell_type": "code",
      "source": [
        "#Eliminar producto\n",
        "producto ={\n",
        "      'nombre':'',\n",
        "      'cantidad':0\n",
        "}\n",
        "inventario=[]\n",
        "inventario.append( {'nombre':nombre,'cantidad':cantidad})\n",
        "print(inventario)\n",
        "\n",
        "borra=input('Ingresa el producto a eliminar: ')\n",
        "if prodNvo in inventario:\n",
        "    del inventario['nombre']\n",
        "    print('\\t Nombre: ', prodNvo['nombre'])\n",
        "    print('\\t Cantidad: ', prodNvo['cantidad'])\n"
      ],
      "metadata": {
        "colab": {
          "base_uri": "https://localhost:8080/"
        },
        "id": "l2qqLonQyP03",
        "outputId": "c74d79a6-37e6-4ba2-a255-1d8a9c77cb82"
      },
      "execution_count": 130,
      "outputs": [
        {
          "name": "stdout",
          "output_type": "stream",
          "text": [
            "[{'nombre': 'miel', 'cantidad': 34}]\n",
            "Ingresa el producto a eliminar: miel\n"
          ]
        }
      ]
    }
  ]
}