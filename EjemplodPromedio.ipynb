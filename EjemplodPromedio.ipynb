{
  "nbformat": 4,
  "nbformat_minor": 0,
  "metadata": {
    "colab": {
      "provenance": [],
      "authorship_tag": "ABX9TyNExAkHu/gBHXMDfefMQy+9",
      "include_colab_link": true
    },
    "kernelspec": {
      "name": "python3",
      "display_name": "Python 3"
    },
    "language_info": {
      "name": "python"
    }
  },
  "cells": [
    {
      "cell_type": "markdown",
      "metadata": {
        "id": "view-in-github",
        "colab_type": "text"
      },
      "source": [
        "<a href=\"https://colab.research.google.com/github/Riccyvt/Actividades/blob/main/EjemplodPromedio.ipynb\" target=\"_parent\"><img src=\"https://colab.research.google.com/assets/colab-badge.svg\" alt=\"Open In Colab\"/></a>"
      ]
    },
    {
      "cell_type": "code",
      "source": [
        "#En este ejemplo vamos a promediar una lista de numeros por teclado"
      ],
      "metadata": {
        "id": "Oe_xEvQp6uVB"
      },
      "execution_count": null,
      "outputs": []
    },
    {
      "cell_type": "code",
      "execution_count": null,
      "metadata": {
        "colab": {
          "base_uri": "https://localhost:8080/"
        },
        "id": "XWE-Ad5c6YY0",
        "outputId": "670e2d3a-b78a-4d99-eefd-ac3c85046601"
      },
      "outputs": [
        {
          "output_type": "stream",
          "name": "stdout",
          "text": [
            "Dime cuantos numeros quieres promediar: 5\n",
            "Dame el numero 1a promediar: 100\n",
            "Dame el numero 2a promediar: 90\n",
            "Dame el numero 3a promediar: 95\n",
            "Dame el numero 4a promediar: 98\n",
            "Dame el numero 5a promediar: 97\n",
            "El promedio fue de  96.0\n"
          ]
        }
      ],
      "source": [
        "# Se recibe la cantidad de números a promediar y se guarda en la variable 'nums'\n",
        "nums = input(\"Dime cuántos números quieres promediar: \")\n",
        "nums = int(nums)\n",
        "\n",
        "# Inicializa la variable 'suma' en cero\n",
        "suma = 0\n",
        "\n",
        "# Se recibe cada número y se acumula en la variable 'suma'\n",
        "for x in range(nums):\n",
        "    numero = input(\"Dame el número \" + str(x + 1) + \" a promediar: \")\n",
        "    numero = int(numero)\n",
        "    suma = suma + numero\n",
        "\n",
        "# Calcula el promedio\n",
        "prom = suma / nums\n",
        "\n",
        "# Imprime el resultado del promedio\n",
        "print(\"El promedio fue de \", prom)\n"
      ]
    },
    {
      "cell_type": "code",
      "source": [
        "#En este ejercicio vamos a calcular promedio, mayor y menor de una serie de numeros"
      ],
      "metadata": {
        "id": "HqFbmTygusK-"
      },
      "execution_count": null,
      "outputs": []
    },
    {
      "cell_type": "code",
      "source": [
        "# Recibe una cantidad de números a evaluar y los guarda en la variable 'cantidad'\n",
        "cantidad = input(\"Ingrese la cantidad de números a evaluar: \")\n",
        "cantidad = int(cantidad)\n",
        "\n",
        "# Inicializa la variable 'suma' en cero\n",
        "suma = 0\n",
        "\n",
        "# Se recibe cada número y se guarda en la variable 'numero'\n",
        "for x in range(cantidad):\n",
        "    numero = input(\"Número \" + str(x + 1) + \" a evaluar: \")\n",
        "    numero = int(numero)\n",
        "    num0 = numero\n",
        "    num1 = numero\n",
        "    num2 = numero\n",
        "\n",
        "    # Para que el primer valor ingresado sea el mayor o el menor\n",
        "    if x == 0:\n",
        "        mayor = num1\n",
        "        menor = num2\n",
        "\n",
        "    # Suma para calcular el promedio\n",
        "    suma = suma + num0\n",
        "\n",
        "    # Calcula el número mayor\n",
        "    if num1 > mayor:\n",
        "        mayor = num1\n",
        "\n",
        "    # Calcula el número menor\n",
        "    if num2 < menor:\n",
        "        menor = num2\n",
        "\n",
        "# Calcula el promedio\n",
        "prom = suma / cantidad\n",
        "\n",
        "# Imprime resultados\n",
        "print(\"El promedio es: \", prom)\n",
        "print(\"Número mayor: \", mayor)\n",
        "print(\"Número menor: \", menor)\n"
      ],
      "metadata": {
        "id": "ehuaiAk3uyNS",
        "colab": {
          "base_uri": "https://localhost:8080/"
        },
        "outputId": "cffdb652-ef56-4cef-ece1-8fd4ac281a2b"
      },
      "execution_count": null,
      "outputs": [
        {
          "output_type": "stream",
          "name": "stdout",
          "text": [
            "Ingrese la cantidad de numeros a evaluar: 3\n",
            "numero 1 a evaluar: -15\n",
            "numero 2 a evaluar: 0\n",
            "numero 3 a evaluar: 35\n",
            "El promedio es:  6.666666666666667\n",
            "Numero mayor:  35\n",
            "Numero menor:  -15\n"
          ]
        }
      ]
    },
    {
      "cell_type": "code",
      "source": [
        "print(\"hola\")"
      ],
      "metadata": {
        "colab": {
          "base_uri": "https://localhost:8080/"
        },
        "id": "kgttRybbvvHA",
        "outputId": "164de460-e0d8-49aa-fbc8-18cee4287097"
      },
      "execution_count": 1,
      "outputs": [
        {
          "output_type": "stream",
          "name": "stdout",
          "text": [
            "hola\n"
          ]
        }
      ]
    }
  ]
}